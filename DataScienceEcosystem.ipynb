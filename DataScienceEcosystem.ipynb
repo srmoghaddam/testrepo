{
 "cells": [
  {
   "cell_type": "markdown",
   "id": "c8eb06bc-53e4-4583-8adb-76866192a913",
   "metadata": {},
   "source": [
    "# Data Science Tools and Ecosystem"
   ]
  },
  {
   "cell_type": "markdown",
   "id": "420e8190-1321-4ad5-b865-8b1208d4afbd",
   "metadata": {},
   "source": [
    "In this notebook, Data Science Tools and Ecosystem are summarized."
   ]
  },
  {
   "cell_type": "markdown",
   "id": "73a4def9-b4b3-49ab-8446-a494023c2481",
   "metadata": {},
   "source": [
    "Some of the popular languages that Data Scientists use are:"
   ]
  },
  {
   "cell_type": "markdown",
   "id": "90ef352c-36a2-4d50-a63a-d6ff5db0f5ff",
   "metadata": {},
   "source": [
    "1. python\n",
    "2. R\n",
    "3. Java"
   ]
  },
  {
   "cell_type": "markdown",
   "id": "03b3f471-adec-46fa-9eca-dea78a9e8aeb",
   "metadata": {},
   "source": [
    "Objectives:\n",
    "- Create a Jupyter Notebook\n",
    "\n",
    "- Insert code and markdown cells\n",
    "\n",
    "- Share your notebook through GitHub\n",
    "\n",
    "  ## Author\n",
    "  Peyvand Moghaddam"
   ]
  },
  {
   "cell_type": "markdown",
   "id": "d413af5c-cded-42a4-bf4e-cee2055049e3",
   "metadata": {},
   "source": [
    "Some of the commonly used libraries used by Data Scientists include:"
   ]
  },
  {
   "cell_type": "markdown",
   "id": "d3585712-a288-47f1-91e8-595c669b7df6",
   "metadata": {},
   "source": [
    "1. numpy\n",
    "2. pandas\n",
    "3. Tensorflow"
   ]
  },
  {
   "cell_type": "markdown",
   "id": "f3ca67b4-db98-44b5-b004-edc059cc4b2c",
   "metadata": {},
   "source": [
    "|Data Science Tools|\n",
    "|------------------|\n",
    "|Julia|\n",
    "|Keras|\n",
    "|Spark|"
   ]
  },
  {
   "cell_type": "markdown",
   "id": "5733c111-9865-46e8-8ade-bb02be1c1432",
   "metadata": {},
   "source": [
    "### Below are a few examples of evaluating arithmetic expressions in Python"
   ]
  },
  {
   "cell_type": "code",
   "execution_count": 2,
   "id": "a754b65b-93c2-4fe4-ac9c-dc920849819a",
   "metadata": {},
   "outputs": [],
   "source": [
    "# This a simple arithmetic expression to mutiply then add integers"
   ]
  },
  {
   "cell_type": "code",
   "execution_count": 3,
   "id": "fd80708f-2977-4785-912b-5c9eff320825",
   "metadata": {},
   "outputs": [
    {
     "data": {
      "text/plain": [
       "17"
      ]
     },
     "execution_count": 3,
     "metadata": {},
     "output_type": "execute_result"
    }
   ],
   "source": [
    "(3*4)+5"
   ]
  },
  {
   "cell_type": "code",
   "execution_count": 4,
   "id": "4fb81f9b-27af-40e5-ac88-3b2ea415aa3a",
   "metadata": {},
   "outputs": [],
   "source": [
    "# This will convert 200 minutes to hours by diving by 60"
   ]
  },
  {
   "cell_type": "code",
   "execution_count": 5,
   "id": "fdacea25-7073-4db8-b38c-61d1d3249da4",
   "metadata": {},
   "outputs": [
    {
     "name": "stdout",
     "output_type": "stream",
     "text": [
      "Hours= 3\n",
      "Minutes= 20\n"
     ]
    }
   ],
   "source": [
    "h=200//60\n",
    "m=200%60\n",
    "print(\"Hours=\",h)\n",
    "print(\"Minutes=\",m)"
   ]
  },
  {
   "cell_type": "code",
   "execution_count": null,
   "id": "ecf069f9-cbac-4cfe-a52c-292c531041b6",
   "metadata": {},
   "outputs": [],
   "source": []
  }
 ],
 "metadata": {
  "kernelspec": {
   "display_name": "Python 3 (ipykernel)",
   "language": "python",
   "name": "python3"
  },
  "language_info": {
   "codemirror_mode": {
    "name": "ipython",
    "version": 3
   },
   "file_extension": ".py",
   "mimetype": "text/x-python",
   "name": "python",
   "nbconvert_exporter": "python",
   "pygments_lexer": "ipython3",
   "version": "3.10.14"
  }
 },
 "nbformat": 4,
 "nbformat_minor": 5
}
